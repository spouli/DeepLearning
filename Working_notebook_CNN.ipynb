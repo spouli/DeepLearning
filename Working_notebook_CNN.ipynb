{
 "cells": [
  {
   "attachments": {},
   "cell_type": "markdown",
   "id": "7d0de9b6",
   "metadata": {},
   "source": [
    "# **Sentiment Analysis of IMDB Movie Reviews**\n",
    "\n",
    "</br>\n",
    "\n",
    "**Dataset**\n",
    "</br>\n",
    "\n",
    "The IMDb Dataset of 50K Movie Reviews, is a popular dataset commonly used for sentiment analysis and natural language processing tasks. The dataset consists of 50,000 movie reviews, with 25,000 reviews labeled as positive and 25,000 as negative\n",
    "</br>\n",
    "\n",
    "Dataset Source: [Kaggle](https://www.kaggle.com/datasets/lakshmi25npathi/imdb-dataset-of-50k-movie-reviews?datasetId=134715&searchQuery=pytor)\n",
    "</br>\n",
    "\n",
    "**The Problem Statement**\n",
    "</br>\n",
    "\n",
    "Predict the number of positive and negative reviews based on sentiments by using deep learning techniques.\n",
    "\n",
    "**To approach this problem, we've followed the below outline:**\n",
    "\n",
    "- **Data preprocessing:** applied in the notebook called _\"Data_preprocessing_notebook\"_\n",
    "</br>\n",
    "\n",
    "- **Word embedding:** We've converted the preprocessed text into a numerical representation that can be understood by deep learning models, using word embeddings, such as Word2Vec or GloVe, to represent words as dense vectors in a continuous vector space.\n",
    "</br>\n",
    "\n",
    "- **Model selection:** Choose a suitable deep learning model architecture including recurrent neural networks (RNNs), long short-term memory (LSTM) networks, and convolutional neural networks (CNNs). \n",
    "</br>\n",
    "\n",
    "- **Model training:** Split our dataset into training and validation sets.\n",
    "</br>\n",
    "- **Model evaluation**\n",
    "</br>\n",
    "- **Model refinement**\n",
    "</br>\n",
    "\n",
    "**(Initial) Attributes**:\n",
    "\n",
    "* Review\n",
    "* Sentiment\n",
    " "
   ]
  },
  {
   "attachments": {},
   "cell_type": "markdown",
   "id": "9279f6e6",
   "metadata": {},
   "source": [
    "## All the imports"
   ]
  },
  {
   "cell_type": "code",
   "execution_count": 5,
   "id": "f47b4c7b",
   "metadata": {},
   "outputs": [],
   "source": [
    "import gc\n",
    "gc.collect()\n",
    "\n",
    "# import to \"ignore\" warnings\n",
    "\n",
    "import warnings\n",
    "warnings.filterwarnings('ignore')\n",
    "\n",
    "# imports for data manipulation\n",
    "\n",
    "import pandas as pd\n",
    "import numpy as np\n",
    "\n",
    "# imports for data visualization\n",
    "\n",
    "import matplotlib.pyplot as plt\n",
    "import seaborn as sns\n",
    "\n",
    "# import pytorch (framework for building deep learning models) || need local import\n",
    "\n",
    "import torch\n",
    "import torch.nn as nn\n",
    "import torch.optim as optim\n",
    "from torch.utils.data import DataLoader\n",
    "\n",
    "# import keras (framework for building deep learning models) || need local import\n",
    "import tensorflow as tf\n",
    "from tensorflow.keras.models import Sequential\n",
    "from tensorflow.keras.layers import Embedding, Bidirectional, GRU, Conv1D, GlobalMaxPooling1D, Dense, Dropout, LSTM, SimpleRNN, Attention, MaxPooling1D, Flatten\n",
    "from tensorflow.keras.optimizers import Adam\n",
    "from tensorflow.keras.callbacks import ReduceLROnPlateau, EarlyStopping\n",
    "\n",
    "# imports from sklearn\n",
    "\n",
    "from sklearn.model_selection import train_test_split, cross_val_score\n",
    "from sklearn.metrics import classification_report, confusion_matrix\n",
    "\n",
    "import gensim # need local import\n",
    "from gensim.models import Word2Vec\n",
    "import random\n",
    "import nltk\n",
    "from nltk import word_tokenize\n"
   ]
  },
  {
   "attachments": {},
   "cell_type": "markdown",
   "id": "2b80ed48",
   "metadata": {},
   "source": [
    "## Load the csv file "
   ]
  },
  {
   "cell_type": "code",
   "execution_count": 6,
   "id": "3f059b6f",
   "metadata": {},
   "outputs": [
    {
     "data": {
      "text/html": [
       "<div>\n",
       "<style scoped>\n",
       "    .dataframe tbody tr th:only-of-type {\n",
       "        vertical-align: middle;\n",
       "    }\n",
       "\n",
       "    .dataframe tbody tr th {\n",
       "        vertical-align: top;\n",
       "    }\n",
       "\n",
       "    .dataframe thead th {\n",
       "        text-align: right;\n",
       "    }\n",
       "</style>\n",
       "<table border=\"1\" class=\"dataframe\">\n",
       "  <thead>\n",
       "    <tr style=\"text-align: right;\">\n",
       "      <th></th>\n",
       "      <th>review</th>\n",
       "      <th>sentiment</th>\n",
       "    </tr>\n",
       "  </thead>\n",
       "  <tbody>\n",
       "    <tr>\n",
       "      <th>0</th>\n",
       "      <td>one review mention watch oz episod hook right ...</td>\n",
       "      <td>1</td>\n",
       "    </tr>\n",
       "    <tr>\n",
       "      <th>1</th>\n",
       "      <td>wonder littl product film techniqu unassum old...</td>\n",
       "      <td>1</td>\n",
       "    </tr>\n",
       "    <tr>\n",
       "      <th>2</th>\n",
       "      <td>thought wonder way spend time hot summer weeke...</td>\n",
       "      <td>1</td>\n",
       "    </tr>\n",
       "    <tr>\n",
       "      <th>3</th>\n",
       "      <td>basic famili littl boy jake think zombi closet...</td>\n",
       "      <td>0</td>\n",
       "    </tr>\n",
       "    <tr>\n",
       "      <th>4</th>\n",
       "      <td>petter mattei love time money visual stun film...</td>\n",
       "      <td>1</td>\n",
       "    </tr>\n",
       "  </tbody>\n",
       "</table>\n",
       "</div>"
      ],
      "text/plain": [
       "                                              review  sentiment\n",
       "0  one review mention watch oz episod hook right ...          1\n",
       "1  wonder littl product film techniqu unassum old...          1\n",
       "2  thought wonder way spend time hot summer weeke...          1\n",
       "3  basic famili littl boy jake think zombi closet...          0\n",
       "4  petter mattei love time money visual stun film...          1"
      ]
     },
     "execution_count": 6,
     "metadata": {},
     "output_type": "execute_result"
    }
   ],
   "source": [
    "# read data\n",
    "\n",
    "data = pd.read_csv('imdb_clean_dataset.csv')\n",
    "data.head()"
   ]
  },
  {
   "attachments": {},
   "cell_type": "markdown",
   "id": "d7cc1cb7",
   "metadata": {},
   "source": [
    "## Split Dataset"
   ]
  },
  {
   "cell_type": "code",
   "execution_count": 7,
   "id": "7b1fa1ae",
   "metadata": {},
   "outputs": [
    {
     "name": "stdout",
     "output_type": "stream",
     "text": [
      "Shape of train data: (31732,)\n",
      "Shape of validation data: (7933,)\n",
      "Shape of test data: (9917,)\n"
     ]
    }
   ],
   "source": [
    "# Split the dataset into training, validation, and testing sets\n",
    "X_train, X_test, y_train, y_test = train_test_split(data['review'], data['sentiment'], test_size=0.2, random_state=42)\n",
    "X_train, X_val, y_train, y_val = train_test_split(X_train, y_train, test_size=0.2, random_state=42)\n",
    "\n",
    "\n",
    "print(f'Shape of train data: {X_train.shape}')\n",
    "print(f'Shape of validation data: {X_val.shape}')\n",
    "print(f'Shape of test data: {X_test.shape}')"
   ]
  },
  {
   "cell_type": "code",
   "execution_count": 8,
   "id": "51920aa0",
   "metadata": {},
   "outputs": [
    {
     "name": "stdout",
     "output_type": "stream",
     "text": [
      "--------------X_train_tokenized: \n",
      "\n",
      "[['idea', 'mr', 'izzard', 'damn', 'funni', 'realli', 'boggl', 'mind', 'well', 'known', 'command', 'crowd', 'time', 'perfect', 'monologu', 'star', 'war', 'kill', 'ya', 'stand', 'perform', 'wit']]\n",
      "\n",
      "\n",
      "--------------X_val_tokenized: \n",
      "\n",
      "[['one', 'worst', 'movi', 'ever', 'seen', 'saw', 'toronto', 'film', 'festiv', 'total', 'regret', 'wast', 'time', 'complet', 'unwatch', 'redeem', 'qualiti', 'whatsoev', 'steer', 'clear']]\n",
      "\n",
      "\n",
      "--------------X_test_tokenized: \n",
      "\n",
      "[['soul', 'plane', 'horribl', 'attempt', 'comedi', 'appeal', 'peopl', 'thick', 'skull', 'bloodshot', 'eye', 'furri', 'pawn', 'plot', 'incoher', 'also', 'non', 'exist', 'act', 'mostli', 'sub', 'sub', 'par', 'gang', 'highli', 'moron', 'dread', 'charact', 'thrown', 'bad', 'measur', 'joke', 'often', 'spot', 'mile', 'ahead', 'almost', 'never', 'even', 'bit', 'amus', 'movi', 'lack', 'structur', 'full', 'racial', 'stereotyp', 'must', 'seem', 'old', 'even', 'fifti', 'thing', 'realli', 'go', 'pretti', 'ladi', 'realli', 'want', 'rent', 'someth', 'adult', 'section', 'ok', 'hardli', 'see', 'anyth', 'recommend', 'sinc', 'probabl', 'lot', 'better', 'product', 'time', 'chase', 'rat', 'sledgehamm', 'invent', 'waterproof', 'teabag', 'whatev']]\n"
     ]
    }
   ],
   "source": [
    "# Tokenize the reviews\n",
    "X_train_tokenized = [word_tokenize(review) for review in X_train]\n",
    "X_val_tokenized = [word_tokenize(review) for review in X_val]\n",
    "X_test_tokenized = [word_tokenize(review) for review in X_test]\n",
    "\n",
    "print('--------------X_train_tokenized: \\n')\n",
    "print(X_train_tokenized[:1])\n",
    "print('\\n')\n",
    "print('--------------X_val_tokenized: \\n')\n",
    "print(X_val_tokenized[:1])\n",
    "print('\\n')\n",
    "print('--------------X_test_tokenized: \\n')\n",
    "print(X_test_tokenized[:1])"
   ]
  },
  {
   "attachments": {},
   "cell_type": "markdown",
   "id": "55e02dd1",
   "metadata": {},
   "source": [
    "## Word embedding using Word2Vec model"
   ]
  },
  {
   "cell_type": "code",
   "execution_count": 9,
   "id": "2361729f",
   "metadata": {},
   "outputs": [],
   "source": [
    "# To learn word embeddings specific to the training set, the Word2Vec model is trained on the X_train_tokenized data, \n",
    "# which consists of tokenized reviews from the training set. \n",
    "# This division ensures a realistic assessment and reduces information leaking from the testing set. \n",
    "# The test set is handled as new data, giving a precise evaluation of the model's performance on novel occurrences. \n",
    "# Word embeddings are created for the testing data using the trained model.\n",
    "\n",
    "model = Word2Vec(sentences=X_train_tokenized, vector_size=100, window=5, min_count=1, workers=4)"
   ]
  },
  {
   "cell_type": "code",
   "execution_count": 10,
   "id": "e11c22e6",
   "metadata": {},
   "outputs": [
    {
     "name": "stdout",
     "output_type": "stream",
     "text": [
      "vocab_size: 57882\n",
      "avg_vector_size: 100\n",
      "num_reviews: 31732\n",
      "max_review_length: 1135\n"
     ]
    }
   ],
   "source": [
    "# Get the vocabulary size\n",
    "vocab_size = len(model.wv)\n",
    "print(f\"vocab_size: {vocab_size}\")\n",
    "\n",
    "# Get the average word vector size\n",
    "avg_vector_size = model.vector_size\n",
    "print(f\"avg_vector_size: {avg_vector_size}\")\n",
    "\n",
    "# Get the total number of reviews in the training set\n",
    "num_reviews = len(X_train_tokenized)\n",
    "print(f\"num_reviews: {num_reviews}\")\n",
    "\n",
    "# Get the maximum number of words in a review\n",
    "max_review_length = max(len(review) for review in X_train_tokenized)\n",
    "print(f\"max_review_length: {max_review_length}\")\n"
   ]
  },
  {
   "cell_type": "code",
   "execution_count": 11,
   "id": "af5f9478",
   "metadata": {},
   "outputs": [],
   "source": [
    "# Generate word embeddings for training data\n",
    "X_train_word_embeddings = []\n",
    "for review in X_train_tokenized:\n",
    "    review_embedding = []\n",
    "    for word in review:\n",
    "        if word in model.wv:  # Check if the word has a word vector in the Word2Vec model's vocabulary\n",
    "            word_embedding = model.wv[word]  # Retrieve the word vector for the word\n",
    "            review_embedding.append(word_embedding)  # Add the word vector to the review_embedding list\n",
    "    if review_embedding:  # check if the review_embedding list is not empty.\n",
    "        review_embedding_avg = sum(review_embedding) / len(review_embedding)  # Calculate the average embedding\n",
    "        X_train_word_embeddings.append(review_embedding_avg)  # Append the average embedding to X_train_word_embeddings\n",
    "    else:\n",
    "        X_train_word_embeddings.append([])  # Append an empty list if no word vectors were found for the review\n",
    "\n",
    "# Generate word embeddings for validation data\n",
    "X_val_word_embeddings = []\n",
    "for review in X_val_tokenized:\n",
    "    review_embedding = []\n",
    "    for word in review:\n",
    "        if word in model.wv:  # Check if the word has a word vector in the Word2Vec model's vocabulary\n",
    "            word_embedding = model.wv[word]  # Retrieve the word vector for the word\n",
    "            review_embedding.append(word_embedding)  # Add the word vector to the review_embedding list\n",
    "    if review_embedding:  # check if the review_embedding list is not empty.\n",
    "        review_embedding_avg = sum(review_embedding) / len(review_embedding)  # Calculate the average embedding\n",
    "        X_val_word_embeddings.append(review_embedding_avg)  # Append the average embedding to X_val_word_embeddings\n",
    "    else:\n",
    "        X_val_word_embeddings.append([])  # Append an empty list if no word vectors were found for the review\n",
    "\n",
    "# Generate word embeddings for testing data\n",
    "X_test_word_embeddings = []\n",
    "for review in X_test_tokenized:\n",
    "    review_embedding = []\n",
    "    for word in review:\n",
    "        if word in model.wv:  # Check if the word has a word vector in the Word2Vec model's vocabulary\n",
    "            word_embedding = model.wv[word]  # Retrieve the word vector for the word\n",
    "            review_embedding.append(word_embedding)  # Add the word vector to the review_embedding list\n",
    "    if review_embedding:  # check if the review_embedding list is not empty.\n",
    "        review_embedding_avg = sum(review_embedding) / len(review_embedding)  # Calculate the average embedding\n",
    "        X_test_word_embeddings.append(review_embedding_avg)  # Append the average embedding to X_test_word_embeddings\n",
    "    else:\n",
    "        X_test_word_embeddings.append([])  # Append an empty list if no word vectors were found for the review\n"
   ]
  },
  {
   "cell_type": "code",
   "execution_count": 12,
   "id": "2fcfd668",
   "metadata": {},
   "outputs": [
    {
     "name": "stdout",
     "output_type": "stream",
     "text": [
      "Number of removed embeddings (training data): 0\n",
      "Number of removed embeddings (validation data): 0\n",
      "Number of removed embeddings (testing data): 0\n",
      "\n",
      "\n",
      "--------------X_train_word_embeddings: \n",
      "\n",
      "[array([ 0.05801978, -0.17380631, -0.20343885, -0.09274986,  0.5404203 ,\n",
      "       -0.76675165,  0.42438772,  0.8039842 , -0.30004522,  0.28225556,\n",
      "        0.05250506,  0.1251039 ,  0.42171356,  0.00856319, -0.3195578 ,\n",
      "        0.16023614,  0.28405765, -0.42688257, -0.32640237, -0.56103814,\n",
      "        0.19127809,  0.11329067,  0.43912765, -0.22563957, -0.38494655,\n",
      "       -0.05950201,  0.10075725,  0.03357613, -0.05802083,  0.13418403,\n",
      "        0.6065751 , -0.4498829 , -0.0613637 , -0.657451  , -0.24811383,\n",
      "        0.25550282,  0.42365602, -0.08615932, -0.11599595, -0.31352165,\n",
      "        0.01917039, -0.06002646, -0.34227654, -0.04966946,  0.13686365,\n",
      "       -0.19387387, -0.2099893 , -0.12074712,  0.2554785 , -0.10730136,\n",
      "        0.3417844 , -0.46959665, -0.06854288,  0.19127822,  0.32764506,\n",
      "       -0.01360853,  0.00907005,  0.20352764, -0.38786593,  0.0965069 ,\n",
      "        0.03829756, -0.37270272,  0.44640243, -0.00925734,  0.16291152,\n",
      "        0.70438135,  0.39764434,  0.06101183, -0.7389902 ,  0.42907485,\n",
      "       -0.01435156,  0.27701715,  0.38724405,  0.26218355,  0.06121301,\n",
      "        0.22963929, -0.07596869,  0.09517223, -0.08660398,  0.05934974,\n",
      "       -0.3209399 ,  0.04377772, -0.2549008 , -0.02566421, -0.44500238,\n",
      "        0.11916809, -0.18765391,  0.69399136,  0.10892727,  0.20594512,\n",
      "        0.7410927 ,  0.25133976,  0.13605718,  0.4506129 ,  0.65570945,\n",
      "        0.14146696, -0.02291641,  0.1162572 , -0.05843883, -0.5945764 ],\n",
      "      dtype=float32)]\n"
     ]
    }
   ],
   "source": [
    "# Remove empty embeddings (if any) from training data\n",
    "num_removed_train = 0\n",
    "X_train_word_embeddings_filtered = []\n",
    "for embedding in X_train_word_embeddings:\n",
    "    if len(embedding) > 0:\n",
    "        X_train_word_embeddings_filtered.append(embedding)\n",
    "    else:\n",
    "        num_removed_train += 1\n",
    "\n",
    "X_train_word_embeddings = X_train_word_embeddings_filtered\n",
    "\n",
    "# Remove empty embeddings (if any) from validation data\n",
    "num_removed_val = 0\n",
    "X_val_word_embeddings_filtered = []\n",
    "for embedding in X_val_word_embeddings:\n",
    "    if len(embedding) > 0:\n",
    "        X_val_word_embeddings_filtered.append(embedding)\n",
    "    else:\n",
    "        num_removed_val += 1\n",
    "\n",
    "X_val_word_embeddings = X_val_word_embeddings_filtered\n",
    "\n",
    "# Remove empty embeddings (if any) from testing data\n",
    "num_removed_test = 0\n",
    "X_test_word_embeddings_filtered = []\n",
    "for embedding in X_test_word_embeddings:\n",
    "    if len(embedding) > 0:\n",
    "        X_test_word_embeddings_filtered.append(embedding)\n",
    "    else:\n",
    "        num_removed_test += 1\n",
    "\n",
    "X_test_word_embeddings = X_test_word_embeddings_filtered\n",
    "\n",
    "# Print the number of removed embeddings\n",
    "print(\"Number of removed embeddings (training data):\", num_removed_train)\n",
    "print(\"Number of removed embeddings (validation data):\", num_removed_val)\n",
    "print(\"Number of removed embeddings (testing data):\", num_removed_test)\n",
    "print('\\n')\n",
    "\n",
    "print('--------------X_train_word_embeddings: \\n')\n",
    "print(X_train_word_embeddings[:1])"
   ]
  },
  {
   "cell_type": "code",
   "execution_count": 13,
   "id": "3fcae6b6",
   "metadata": {},
   "outputs": [
    {
     "name": "stdout",
     "output_type": "stream",
     "text": [
      "--------------X_test_word_embeddings: \n",
      "\n",
      "[array([ 6.29154503e-01,  5.19397378e-01, -3.18375416e-02,  1.81278080e-01,\n",
      "       -1.37029871e-01, -5.75475454e-01,  5.89594185e-01,  9.24523532e-01,\n",
      "       -3.33165348e-01, -2.07399055e-01,  4.64373589e-01,  3.72028738e-01,\n",
      "        3.56750757e-01, -8.64316225e-02, -1.60106406e-01, -8.58821273e-02,\n",
      "        6.09437764e-01, -1.00407125e-02, -6.25854850e-01, -9.40040469e-01,\n",
      "        4.62676544e-04, -4.45900708e-01,  6.70990705e-01, -2.49467075e-01,\n",
      "       -2.04144567e-01,  6.50016079e-03,  1.54780020e-04,  2.41148859e-01,\n",
      "        4.12699059e-02,  5.64827085e-01,  4.11894947e-01, -3.89528096e-01,\n",
      "        1.97005913e-01, -4.69438434e-01,  1.92745298e-01,  3.19358647e-01,\n",
      "        5.61959982e-01, -4.18771625e-01, -4.56478834e-01, -5.80317676e-01,\n",
      "        3.71809423e-01, -1.58571213e-01,  3.28541063e-02,  2.50649691e-01,\n",
      "        4.68690366e-01, -2.13122800e-01, -4.52060588e-02, -3.68804455e-01,\n",
      "        4.34498101e-01,  7.30055496e-02,  5.16438901e-01, -1.52995497e-01,\n",
      "       -2.23756582e-01,  5.83275743e-02,  1.37166053e-01, -1.23863570e-01,\n",
      "        2.64594346e-01,  5.72783947e-01, -4.29176480e-01, -3.00434113e-01,\n",
      "       -2.26665169e-01, -4.71690804e-01,  4.62024182e-01,  3.15892160e-01,\n",
      "        9.96673107e-02,  9.24516261e-01,  6.29075944e-01,  1.01893969e-01,\n",
      "       -5.83246708e-01, -1.78569779e-01, -2.92403549e-01, -2.46810596e-02,\n",
      "        1.79749474e-01,  3.76725733e-01,  3.90854552e-02,  8.52683783e-02,\n",
      "        7.90753812e-02,  2.98592925e-01, -1.33201689e-01,  3.92489851e-01,\n",
      "       -3.35604370e-01, -9.89946350e-02,  1.43420056e-01,  8.72328579e-02,\n",
      "       -4.08524036e-01,  3.87976952e-02,  1.68124855e-01,  5.62113345e-01,\n",
      "       -1.18327932e-02, -1.08816445e-01,  5.65573514e-01,  3.14444602e-01,\n",
      "       -5.26139259e-01, -1.50766507e-01,  4.96135205e-01, -2.09513858e-01,\n",
      "        1.78119749e-01,  1.74785286e-01, -1.21259876e-01,  2.15983968e-02],\n",
      "      dtype=float32)]\n"
     ]
    }
   ],
   "source": [
    "print('--------------X_test_word_embeddings: \\n')\n",
    "print(X_test_word_embeddings[:1])\n"
   ]
  },
  {
   "attachments": {},
   "cell_type": "markdown",
   "id": "214980bd",
   "metadata": {},
   "source": [
    "## Pad sequences to ensure equal length"
   ]
  },
  {
   "cell_type": "code",
   "execution_count": 14,
   "id": "fb7c3379",
   "metadata": {},
   "outputs": [],
   "source": [
    "# Convert word embeddings to numpy arrays\n",
    "X_train_word_embeddings = np.array(X_train_word_embeddings)\n",
    "X_val_word_embeddings = np.array(X_val_word_embeddings)\n",
    "X_test_word_embeddings = np.array(X_test_word_embeddings)\n",
    "\n",
    "# Pad sequences to ensure equal length\n",
    "max_sequence_length = max_review_length  # Use the maximum length of a review as the sequence length\n",
    "\n",
    "X_train_padded = tf.keras.preprocessing.sequence.pad_sequences(\n",
    "    X_train_word_embeddings,\n",
    "    maxlen=max_sequence_length,\n",
    "    dtype='float32',\n",
    "    padding='post',\n",
    "    truncating='post'\n",
    ")\n",
    "\n",
    "X_val_padded = tf.keras.preprocessing.sequence.pad_sequences(\n",
    "    X_val_word_embeddings,\n",
    "    maxlen=max_sequence_length,\n",
    "    dtype='float32',\n",
    "    padding='post',\n",
    "    truncating='post'\n",
    ")\n",
    "\n",
    "X_test_padded = tf.keras.preprocessing.sequence.pad_sequences(\n",
    "    X_test_word_embeddings,\n",
    "    maxlen=max_sequence_length,\n",
    "    dtype='float32',\n",
    "    padding='post',\n",
    "    truncating='post'\n",
    ")\n",
    "\n",
    "# Reshape word embeddings\n",
    "embedding_size = 100  # Set the desired embedding size\n",
    "max_sequence_length = 100  # Set the desired sequence length\n",
    "\n",
    "def reshape_embeddings(embeddings):\n",
    "    reshaped_embeddings = np.zeros((len(embeddings), max_sequence_length, embedding_size))\n",
    "    for i, embedding in enumerate(embeddings):\n",
    "        # Determine the length of the embedding and truncate if necessary\n",
    "        length = min(len(embedding), max_sequence_length)\n",
    "        reshaped_embeddings[i, :length] = embedding[:length]\n",
    "    return reshaped_embeddings\n",
    "\n",
    "X_train_reshaped = reshape_embeddings(X_train_word_embeddings)\n",
    "X_val_reshaped = reshape_embeddings(X_val_word_embeddings)\n",
    "X_test_reshaped = reshape_embeddings(X_test_word_embeddings)"
   ]
  },
  {
   "attachments": {},
   "cell_type": "markdown",
   "id": "60e5a24c",
   "metadata": {},
   "source": [
    "## Model Selection"
   ]
  },
  {
   "attachments": {},
   "cell_type": "markdown",
   "id": "f2fa0278",
   "metadata": {},
   "source": [
    "### CNN model\n",
    "\n",
    "CNNs are primarily designed for processing grid-like data, like images, by utilizing convolutional layers to learn hierarchical representations. Although RNNs are typically thought to be more effective at capturing sequential relationships in text data, we decided to investigate the use of CNNs in sentiment analysis to evaluate how well they perform in this context."
   ]
  },
  {
   "cell_type": "code",
   "execution_count": 15,
   "id": "34332c38",
   "metadata": {},
   "outputs": [
    {
     "name": "stdout",
     "output_type": "stream",
     "text": [
      "Empty DataFrame\n",
      "Columns: [Model, Test_Loss, Test_Accuracy]\n",
      "Index: []\n"
     ]
    }
   ],
   "source": [
    "# Create a DataFrame with the model names, test loss, and test accuracy\n",
    "results_df = pd.DataFrame(columns=['Model', 'Test_Loss', 'Test_Accuracy'])\n",
    "# Display the results table\n",
    "print(results_df)"
   ]
  },
  {
   "attachments": {},
   "cell_type": "markdown",
   "id": "f3e4bede",
   "metadata": {},
   "source": [
    "#### Simple Model"
   ]
  },
  {
   "cell_type": "code",
   "execution_count": 16,
   "id": "1fe28d9f",
   "metadata": {},
   "outputs": [
    {
     "name": "stdout",
     "output_type": "stream",
     "text": [
      "Epoch 1/10\n",
      "496/496 [==============================] - 14s 25ms/step - loss: 0.3663 - accuracy: 0.8368 - val_loss: 0.3540 - val_accuracy: 0.8460 - lr: 0.0010\n",
      "Epoch 2/10\n",
      "496/496 [==============================] - 13s 27ms/step - loss: 0.3446 - accuracy: 0.8513 - val_loss: 0.3844 - val_accuracy: 0.8347 - lr: 0.0010\n",
      "Epoch 3/10\n",
      "496/496 [==============================] - 11s 21ms/step - loss: 0.3369 - accuracy: 0.8558 - val_loss: 0.3457 - val_accuracy: 0.8524 - lr: 0.0010\n",
      "Epoch 4/10\n",
      "496/496 [==============================] - 10s 20ms/step - loss: 0.3336 - accuracy: 0.8575 - val_loss: 0.3416 - val_accuracy: 0.8510 - lr: 0.0010\n",
      "Epoch 5/10\n",
      "496/496 [==============================] - 10s 21ms/step - loss: 0.3287 - accuracy: 0.8603 - val_loss: 0.3541 - val_accuracy: 0.8446 - lr: 0.0010\n",
      "Epoch 6/10\n",
      "496/496 [==============================] - 11s 23ms/step - loss: 0.3271 - accuracy: 0.8607 - val_loss: 0.3490 - val_accuracy: 0.8492 - lr: 0.0010\n",
      "310/310 [==============================] - 2s 5ms/step - loss: 0.3515 - accuracy: 0.8491\n",
      "Test loss: 0.35149410367012024\n",
      "Test accuracy: 0.8491479158401489\n"
     ]
    },
    {
     "data": {
      "text/html": [
       "<div>\n",
       "<style scoped>\n",
       "    .dataframe tbody tr th:only-of-type {\n",
       "        vertical-align: middle;\n",
       "    }\n",
       "\n",
       "    .dataframe tbody tr th {\n",
       "        vertical-align: top;\n",
       "    }\n",
       "\n",
       "    .dataframe thead th {\n",
       "        text-align: right;\n",
       "    }\n",
       "</style>\n",
       "<table border=\"1\" class=\"dataframe\">\n",
       "  <thead>\n",
       "    <tr style=\"text-align: right;\">\n",
       "      <th></th>\n",
       "      <th>Model</th>\n",
       "      <th>Test_Loss</th>\n",
       "      <th>Test_Accuracy</th>\n",
       "    </tr>\n",
       "  </thead>\n",
       "  <tbody>\n",
       "    <tr>\n",
       "      <th>0</th>\n",
       "      <td>CNN_Simple_Model</td>\n",
       "      <td>0.351494</td>\n",
       "      <td>0.849148</td>\n",
       "    </tr>\n",
       "  </tbody>\n",
       "</table>\n",
       "</div>"
      ],
      "text/plain": [
       "              Model  Test_Loss  Test_Accuracy\n",
       "0  CNN_Simple_Model   0.351494       0.849148"
      ]
     },
     "execution_count": 16,
     "metadata": {},
     "output_type": "execute_result"
    }
   ],
   "source": [
    "# Create and train the CNN model\n",
    "model = Sequential()\n",
    "model.add(Conv1D(128, 5, activation='relu', input_shape=(max_sequence_length, embedding_size)))\n",
    "model.add(MaxPooling1D(5))\n",
    "model.add(Flatten())\n",
    "model.add(Dense(64, activation='relu'))\n",
    "model.add(Dense(1, activation='sigmoid'))\n",
    "\n",
    "model.compile(loss='binary_crossentropy', optimizer='adam', metrics=['accuracy'])\n",
    "\n",
    "\n",
    "# Compile the model\n",
    "model.compile(loss='binary_crossentropy', optimizer='adam', metrics=['accuracy'])\n",
    "\n",
    "# Define the ReduceLROnPlateau and EarlyStopping callbacks\n",
    "# the ReduceLROnPlateau callback is used to reduce the learning rate when the validation loss stops improving\n",
    "# the EarlyStopping callback is used to stop the training process \n",
    "# when the validation accuracy does not improve within a certain number of epochs. \n",
    "reduce_lr = ReduceLROnPlateau(monitor='val_loss', patience=3, cooldown=0) \n",
    "early_stopping = EarlyStopping(monitor='val_accuracy', min_delta=1e-4, patience=3) \n",
    "\n",
    "# Train the model with the callbacks\n",
    "model.fit(X_train_reshaped, y_train, validation_data=(X_val_reshaped, y_val),\n",
    "          epochs=10, batch_size=64, callbacks=[reduce_lr, early_stopping])\n",
    "\n",
    "# Evaluate the model\n",
    "loss, accuracy = model.evaluate(X_test_reshaped, y_test)\n",
    "print(f\"Test loss: {loss}\")\n",
    "print(f\"Test accuracy: {accuracy}\")\n",
    "\n",
    "\n",
    "# Append with the evaluation metrics the dataframe \n",
    "CNN_Simple_Model = {'Model': 'CNN_Simple_Model', 'Test_Loss': loss, 'Test_Accuracy': accuracy}\n",
    "results_df = results_df.append(CNN_Simple_Model, ignore_index=True)\n",
    "results_df"
   ]
  },
  {
   "attachments": {},
   "cell_type": "markdown",
   "id": "edd7bfa2",
   "metadata": {},
   "source": [
    "#### Complex CNN model"
   ]
  },
  {
   "cell_type": "code",
   "execution_count": 17,
   "id": "3da3d8f1",
   "metadata": {},
   "outputs": [
    {
     "name": "stdout",
     "output_type": "stream",
     "text": [
      "Epoch 1/10\n",
      "496/496 [==============================] - 16s 28ms/step - loss: 0.3791 - accuracy: 0.8337 - val_loss: 0.3519 - val_accuracy: 0.8475 - lr: 0.0010\n",
      "Epoch 2/10\n",
      "496/496 [==============================] - 12s 25ms/step - loss: 0.3470 - accuracy: 0.8510 - val_loss: 0.3553 - val_accuracy: 0.8472 - lr: 0.0010\n",
      "Epoch 3/10\n",
      "496/496 [==============================] - 13s 26ms/step - loss: 0.3396 - accuracy: 0.8566 - val_loss: 0.3505 - val_accuracy: 0.8523 - lr: 0.0010\n",
      "Epoch 4/10\n",
      "496/496 [==============================] - 12s 24ms/step - loss: 0.3367 - accuracy: 0.8561 - val_loss: 0.3460 - val_accuracy: 0.8486 - lr: 0.0010\n",
      "Epoch 5/10\n",
      "496/496 [==============================] - 12s 23ms/step - loss: 0.3341 - accuracy: 0.8568 - val_loss: 0.3460 - val_accuracy: 0.8567 - lr: 0.0010\n",
      "Epoch 6/10\n",
      "496/496 [==============================] - 11s 23ms/step - loss: 0.3287 - accuracy: 0.8600 - val_loss: 0.3496 - val_accuracy: 0.8538 - lr: 0.0010\n",
      "Epoch 7/10\n",
      "496/496 [==============================] - 13s 27ms/step - loss: 0.3250 - accuracy: 0.8626 - val_loss: 0.3612 - val_accuracy: 0.8444 - lr: 0.0010\n",
      "Epoch 8/10\n",
      "496/496 [==============================] - 15s 30ms/step - loss: 0.3109 - accuracy: 0.8685 - val_loss: 0.3362 - val_accuracy: 0.8560 - lr: 1.0000e-04\n",
      "310/310 [==============================] - 2s 5ms/step - loss: 0.3396 - accuracy: 0.8582\n",
      "Test loss: 0.339647114276886\n",
      "Test accuracy: 0.8582232594490051\n"
     ]
    },
    {
     "data": {
      "text/html": [
       "<div>\n",
       "<style scoped>\n",
       "    .dataframe tbody tr th:only-of-type {\n",
       "        vertical-align: middle;\n",
       "    }\n",
       "\n",
       "    .dataframe tbody tr th {\n",
       "        vertical-align: top;\n",
       "    }\n",
       "\n",
       "    .dataframe thead th {\n",
       "        text-align: right;\n",
       "    }\n",
       "</style>\n",
       "<table border=\"1\" class=\"dataframe\">\n",
       "  <thead>\n",
       "    <tr style=\"text-align: right;\">\n",
       "      <th></th>\n",
       "      <th>Model</th>\n",
       "      <th>Test_Loss</th>\n",
       "      <th>Test_Accuracy</th>\n",
       "    </tr>\n",
       "  </thead>\n",
       "  <tbody>\n",
       "    <tr>\n",
       "      <th>0</th>\n",
       "      <td>CNN_Simple_Model</td>\n",
       "      <td>0.351494</td>\n",
       "      <td>0.849148</td>\n",
       "    </tr>\n",
       "    <tr>\n",
       "      <th>1</th>\n",
       "      <td>CNN_Complex_model</td>\n",
       "      <td>0.339647</td>\n",
       "      <td>0.858223</td>\n",
       "    </tr>\n",
       "  </tbody>\n",
       "</table>\n",
       "</div>"
      ],
      "text/plain": [
       "               Model  Test_Loss  Test_Accuracy\n",
       "0   CNN_Simple_Model   0.351494       0.849148\n",
       "1  CNN_Complex_model   0.339647       0.858223"
      ]
     },
     "execution_count": 17,
     "metadata": {},
     "output_type": "execute_result"
    }
   ],
   "source": [
    "# Create and train the CNN model\n",
    "model = Sequential()\n",
    "model.add(Conv1D(128, 5, activation='relu', input_shape=(max_sequence_length, embedding_size)))\n",
    "model.add(MaxPooling1D(5))\n",
    "model.add(Conv1D(64, 5, activation='relu'))\n",
    "model.add(MaxPooling1D(5))\n",
    "model.add(Flatten())\n",
    "model.add(Dense(128, activation='relu'))\n",
    "model.add(Dropout(0.5))\n",
    "model.add(Dense(64, activation='relu'))\n",
    "model.add(Dense(1, activation='sigmoid'))\n",
    "\n",
    "\n",
    "# Compile the model\n",
    "model.compile(loss='binary_crossentropy', optimizer='adam', metrics=['accuracy'])\n",
    "\n",
    "# Define the ReduceLROnPlateau and EarlyStopping callbacks\n",
    "# the ReduceLROnPlateau callback is used to reduce the learning rate when the validation loss stops improving\n",
    "# the EarlyStopping callback is used to stop the training process \n",
    "# when the validation accuracy does not improve within a certain number of epochs. \n",
    "reduce_lr = ReduceLROnPlateau(monitor='val_loss', patience=3, cooldown=0) \n",
    "early_stopping = EarlyStopping(monitor='val_accuracy', min_delta=1e-4, patience=3) \n",
    "\n",
    "# Train the model with the callbacks\n",
    "model.fit(X_train_reshaped, y_train, validation_data=(X_val_reshaped, y_val),\n",
    "          epochs=10, batch_size=64, callbacks=[reduce_lr, early_stopping])\n",
    "\n",
    "# Evaluate the model\n",
    "loss, accuracy = model.evaluate(X_test_reshaped, y_test)\n",
    "print(f\"Test loss: {loss}\")\n",
    "print(f\"Test accuracy: {accuracy}\")\n",
    "\n",
    "# Append with the evaluation metrics the dataframe \n",
    "CNN_Complex_model = {'Model': 'CNN_Complex_model', 'Test_Loss': loss, 'Test_Accuracy': accuracy}\n",
    "results_df = results_df.append(CNN_Complex_model, ignore_index=True)\n",
    "results_df"
   ]
  },
  {
   "attachments": {},
   "cell_type": "markdown",
   "id": "cf76e8f4",
   "metadata": {},
   "source": [
    "#### Comparison of Test Accuracy and Test Loss for Different Models"
   ]
  },
  {
   "cell_type": "code",
   "execution_count": 18,
   "id": "0c5e6cd3",
   "metadata": {},
   "outputs": [
    {
     "data": {
      "image/png": "[encoded data removed]",
      "text/plain": [
       "<Figure size 1000x600 with 1 Axes>"
      ]
     },
     "metadata": {},
     "output_type": "display_data"
    }
   ],
   "source": [
    "# Set the width of the bars\n",
    "bar_width = 0.35\n",
    "\n",
    "# Create an array of indices for the x-axis ticks\n",
    "x_ticks = np.arange(len(results_df))\n",
    "\n",
    "# Create the figure and axis\n",
    "fig, ax = plt.subplots(figsize=(10, 6))\n",
    "\n",
    "# Plot the test accuracy bars\n",
    "accuracy_bars = ax.bar(x_ticks, results_df['Test_Accuracy'], width=bar_width, label='Test Accuracy')\n",
    "\n",
    "# Plot the test loss bars\n",
    "loss_bars = ax.bar(x_ticks + bar_width, results_df['Test_Loss'], width=bar_width, label='Test Loss')\n",
    "\n",
    "# Find the index of the model with the maximum accuracy and minimum loss\n",
    "max_accuracy_index = results_df['Test_Accuracy'].idxmax()\n",
    "min_loss_index = results_df['Test_Loss'].idxmin()\n",
    "\n",
    "# Highlight the bar for the model with the maximum accuracy\n",
    "accuracy_bars[max_accuracy_index].set_color('darkcyan')\n",
    "\n",
    "# Highlight the bar for the model with the minimum loss\n",
    "loss_bars[min_loss_index].set_color('maroon')\n",
    "\n",
    "# Set the x-axis ticks and labels\n",
    "ax.set_xticks(x_ticks + bar_width / 2)\n",
    "ax.set_xticklabels(results_df.index, rotation=45)\n",
    "\n",
    "# Set labels and title\n",
    "ax.set_xlabel('Model')\n",
    "ax.set_ylabel('Value')\n",
    "ax.set_title('Comparison of Test Accuracy and Test Loss for Different Models')\n",
    "\n",
    "# Add values on top of the bars\n",
    "for i in range(len(results_df)):\n",
    "    accuracy = results_df.loc[i, 'Test_Accuracy']\n",
    "    loss = results_df.loc[i, 'Test_Loss']\n",
    "    ax.text(i, accuracy + 0.01, f'{accuracy:.2f}', ha='center')\n",
    "    ax.text(i + bar_width, loss + 0.01, f'{loss:.2f}', ha='center')\n",
    "\n",
    "# Display the plot\n",
    "plt.tight_layout()\n",
    "plt.show()"
   ]
  },
  {
   "cell_type": "code",
   "execution_count": 19,
   "id": "5d9edcc8",
   "metadata": {},
   "outputs": [],
   "source": [
    "# save the results_df into new csv file\n",
    "results_df[['Model', 'Test_Loss', 'Test_Accuracy']].to_csv('CNN_model_results.csv', index=False, header=True)"
   ]
  }
 ],
 "metadata": {
  "kernelspec": {
   "display_name": "Python 3 (ipykernel)",
   "language": "python",
   "name": "python3"
  },
  "language_info": {
   "codemirror_mode": {
    "name": "ipython",
    "version": 3
   },
   "file_extension": ".py",
   "mimetype": "text/x-python",
   "name": "python",
   "nbconvert_exporter": "python",
   "pygments_lexer": "ipython3",
   "version": "3.10.11"
  }
 },
 "nbformat": 4,
 "nbformat_minor": 5
}
