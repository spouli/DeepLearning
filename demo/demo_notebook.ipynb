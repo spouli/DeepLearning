{
 "cells": [
  {
   "attachments": {},
   "cell_type": "markdown",
   "id": "7d0de9b6",
   "metadata": {},
   "source": [
    "# **Sentiment Analysis of IMDB Movie Reviews**\n",
    "\n",
    "</br>\n",
    "\n",
    "**Dataset**\n",
    "</br>\n",
    "\n",
    "The IMDb Dataset of 50K Movie Reviews, is a popular dataset commonly used for sentiment analysis and natural language processing tasks. The dataset consists of 50,000 movie reviews, with 25,000 reviews labeled as positive and 25,000 as negative\n",
    "</br>\n",
    "\n",
    "Dataset Source: [Kaggle](https://www.kaggle.com/datasets/lakshmi25npathi/imdb-dataset-of-50k-movie-reviews?datasetId=134715&searchQuery=pytor)\n",
    "</br>\n",
    "\n",
    "**The Problem Statement**\n",
    "</br>\n",
    "\n",
    "Predict the sentiment (positive or negative) of movie reviews using deep learning techniques.\n",
    "\n",
    "**Approach Outline:**\n",
    "\n",
    "- **Data Preprocessing:** Apply preprocessing steps to clean and prepare the text data for analysis. Check the \"Data_preprocessing_notebook\" for detailed steps.\n",
    "\n",
    "- **Padding:** Pad the preprocessed text sequences to ensure they have the same length, as deep learning models typically require fixed-length inputs.\n",
    "\n",
    "- **Word Embedding:** Convert the preprocessed text into a numerical representation using word embeddings (such as Word2Vec ) to represent words as dense vectors in a continuous vector space.\n",
    "\n",
    "- **Model Training:** Split the dataset into training and test sets and train deep learning models on the training data.\n",
    "\n",
    "- **Model Selection:** Choose a suitable deep learning model architecture, such as recurrent neural networks (RNNs), long short-term memory (LSTM) networks, or Bidirectional, to build the sentiment analysis model.\n",
    "\n",
    "- **Model Evaluation:** Evaluate the trained model's performance on the test set, considering metrics such as accuracy, precision, recall,  F1 score an as well as ROC-AUC Curves\n",
    "\n",
    "\n",
    "**(Initial) Attributes**:\n",
    "\n",
    "* Review\n",
    "* Sentiment\n",
    " "
   ]
  },
  {
   "attachments": {},
   "cell_type": "markdown",
   "id": "9279f6e6",
   "metadata": {},
   "source": [
    "## All the imports"
   ]
  },
  {
   "cell_type": "code",
   "execution_count": 47,
   "id": "f47b4c7b",
   "metadata": {},
   "outputs": [
    {
     "name": "stderr",
     "output_type": "stream",
     "text": [
      "[nltk_data] Downloading package wordnet to\n",
      "[nltk_data]     C:\\Users\\stavp\\AppData\\Roaming\\nltk_data...\n",
      "[nltk_data]   Package wordnet is already up-to-date!\n",
      "[nltk_data] Downloading package stopwords to\n",
      "[nltk_data]     C:\\Users\\stavp\\AppData\\Roaming\\nltk_data...\n",
      "[nltk_data]   Package stopwords is already up-to-date!\n"
     ]
    },
    {
     "data": {
      "text/plain": [
       "True"
      ]
     },
     "execution_count": 47,
     "metadata": {},
     "output_type": "execute_result"
    }
   ],
   "source": [
    "# import to \"ignore\" warnings\n",
    "import warnings\n",
    "warnings.filterwarnings('ignore')\n",
    "\n",
    "# imports for data manipulation\n",
    "import pandas as pd\n",
    "import numpy as np\n",
    "import matplotlib.pyplot as plt\n",
    "\n",
    "import re \n",
    "\n",
    "from tensorflow.keras.preprocessing.text import Tokenizer\n",
    "from tensorflow.keras.preprocessing.sequence import pad_sequences\n",
    "\n",
    "import nltk \n",
    "from nltk import ngrams\n",
    "from nltk.corpus import stopwords\n",
    "from nltk.stem import PorterStemmer\n",
    "nltk.download('wordnet')\n",
    "nltk.download('stopwords')\n"
   ]
  },
  {
   "attachments": {},
   "cell_type": "markdown",
   "id": "3d2e6d9e",
   "metadata": {},
   "source": [
    "## def_preprocessing"
   ]
  },
  {
   "cell_type": "code",
   "execution_count": 48,
   "id": "98d3eec9",
   "metadata": {},
   "outputs": [],
   "source": [
    "# Define the word mapping dictionary\n",
    "mapping = {\n",
    "    \"ain't\": \"is not\", \"aren't\": \"are not\", \"can't\": \"cannot\", \"'cause\": \"because\", \"could've\": \"could have\",\n",
    "    \"couldn't\": \"could not\", \"didn't\": \"did not\", \"doesn't\": \"does not\", \"don't\": \"do not\", \"hadn't\": \"had not\",\n",
    "    \"hasn't\": \"has not\", \"haven't\": \"have not\", \"he'd\": \"he would\", \"he'll\": \"he will\", \"he's\": \"he is\",\n",
    "    \"how'd\": \"how did\", \"how'd'y\": \"how do you\", \"how'll\": \"how will\", \"how's\": \"how is\", \"I'd\": \"I would\",\n",
    "    \"I'd've\": \"I would have\", \"I'll\": \"I will\", \"I'll've\": \"I will have\", \"I'm\": \"I am\", \"I've\": \"I have\",\n",
    "    \"i'd\": \"i would\", \"i'd've\": \"i would have\", \"i'll\": \"i will\", \"i'll've\": \"i will have\", \"i'm\": \"i am\",\n",
    "    \"i've\": \"i have\", \"isn't\": \"is not\", \"it'd\": \"it would\", \"it'd've\": \"it would have\", \"it'll\": \"it will\",\n",
    "    \"it'll've\": \"it will have\", \"it's\": \"it is\", \"let's\": \"let us\", \"ma'am\": \"madam\", \"mayn't\": \"may not\",\n",
    "    \"might've\": \"might have\", \"mightn't\": \"might not\", \"mightn't've\": \"might not have\", \"must've\": \"must have\",\n",
    "    \"mustn't\": \"must not\", \"mustn't've\": \"must not have\", \"needn't\": \"need not\", \"needn't've\": \"need not have\",\n",
    "    \"o'clock\": \"of the clock\", \"oughtn't\": \"ought not\", \"oughtn't've\": \"ought not have\", \"shan't\": \"shall not\",\n",
    "    \"sha'n't\": \"shall not\", \"shan't've\": \"shall not have\", \"she'd\": \"she would\", \"she'd've\": \"she would have\",\n",
    "    \"she'll\": \"she will\", \"she'll've\": \"she will have\", \"she's\": \"she is\", \"should've\": \"should have\",\n",
    "    \"shouldn't\": \"should not\", \"shouldn't've\": \"should not have\", \"so've\": \"so have\", \"so's\": \"so as\",\n",
    "    \"this's\": \"this is\", \"that'd\": \"that would\", \"that'd've\": \"that would have\", \"that's\": \"that is\",\n",
    "    \"there'd\": \"there would\", \"there'd've\": \"there would have\", \"there's\": \"there is\", \"here's\": \"here is\",\n",
    "    \"they'd\": \"they would\", \"they'd've\": \"they would have\", \"they'll\": \"they will\",\n",
    "    \"they'll've\": \"they will have\", \"they're\": \"they are\", \"they've\": \"they have\", \"to've\": \"to have\",\n",
    "    \"wasn't\": \"was not\", \"we'd\": \"we would\", \"we'd've\": \"we would have\", \"we'll\": \"we will\",\n",
    "    \"we'll've\": \"we will have\", \"we're\": \"we are\", \"we've\": \"we have\", \"weren't\": \"were not\",\n",
    "    \"what'll\": \"what will\", \"what'll've\": \"what will have\", \"what're\": \"what are\", \"what's\": \"what is\",\n",
    "    \"what've\": \"what have\", \"when's\": \"when is\", \"when've\": \"when have\", \"where'd\": \"where did\",\n",
    "    \"where's\": \"where is\", \"where've\": \"where have\", \"who'll\": \"who will\", \"who'll've\": \"who will have\",\n",
    "    \"who's\": \"who is\", \"who've\": \"who have\", \"why's\": \"why is\", \"why've\": \"why have\",\n",
    "    \"will've\": \"will have\", \"won't\": \"will not\", \"won't've\": \"will not have\", \"would've\": \"would have\",\n",
    "    \"wouldn't\": \"would not\", \"wouldn't've\": \"would not have\", \"y'all\": \"you all\", \"y'all'd\": \"you all would\",\n",
    "    \"y'all'd've\": \"you all would have\", \"y'all're\": \"you all are\", \"y'all've\": \"you all have\",\n",
    "    \"you'd\": \"you would\", \"you'd've\": \"you would have\", \"you'll\": \"you will\", \"you'll've\": \"you will have\",\n",
    "    \"you're\": \"you are\", \"you've\": \"you have\"\n",
    "}\n",
    "\n",
    "# Get all the English stopwords\n",
    "stopwords = set(stopwords.words('english'))\n",
    "\n",
    "# Initialize a Porter stemmer to stem each word of the review dataset\n",
    "stemmer = PorterStemmer()\n",
    "\n",
    "# Initialize corpus list to store all words in the dataset\n",
    "corpus = []\n",
    "\n",
    "def preprocessing(data):\n",
    "    data = data.lower()  # Convert text to lowercase\n",
    "    data = re.sub(r\"http\\S+\", \" \", data)  # Remove hyperlinks from the text\n",
    "    data = re.sub(r\"<.*?>\", \" \", data)  # Remove HTML tags from the text\n",
    "    data = re.sub(r\"\\d+\", \" \", data)  # Remove numbers from the text\n",
    "    emoji_pattern = re.compile(\"[\"\n",
    "                           u\"\\U0001F600-\\U0001F64F\"  # emoticons\n",
    "                           u\"\\U0001F300-\\U0001F5FF\"  # symbols & pictographs\n",
    "                           u\"\\U0001F680-\\U0001F6FF\"  # transport & map symbols\n",
    "                           u\"\\U0001F1E0-\\U0001F1FF\"  # flags \n",
    "                           u\"\\U00002702-\\U000027B0\"\n",
    "                           u\"\\U000024C2-\\U0001F251\"\n",
    "                           \"]+\", flags=re.UNICODE)\n",
    "    data = emoji_pattern.sub(r'', data)  # Remove emojis from the text\n",
    "    punctuations = '[’!\"#$%&\\'()*+,-./:;<=>?@[\\\\]^_`{|}~]+'  # Define punctuation symbols\n",
    "    data = re.sub(punctuations, ' ', data)  # Remove punctuation symbols from the text\n",
    "    data = re.sub(r'\\s{2,}', ' ', data)  # Remove double whitespaces\n",
    "    words = data.split()  # Split the text into individual words\n",
    "    processed_words = []  # Initialize list to store processed words\n",
    "\n",
    "    for word in words:\n",
    "        if word not in stopwords:  # Check if the word is not a stopword\n",
    "            word = stemmer.stem(word)  # Stem the word using Porter stemmer\n",
    "            if word in mapping:\n",
    "                word = mapping[word]  # Map the word to its expanded form if it exists in the mapping dictionary\n",
    "            processed_words.append(word)  # Add the processed word to the list\n",
    "            corpus.extend(processed_words)  # Add the processed word to the corpus list\n",
    "\n",
    "    cleaned_sentence = \" \".join(processed_words)  # Join the processed words to form a cleaned sentence\n",
    "    return cleaned_sentence\n"
   ]
  },
  {
   "attachments": {},
   "cell_type": "markdown",
   "id": "374ac532",
   "metadata": {},
   "source": [
    "## def_encoding"
   ]
  },
  {
   "cell_type": "code",
   "execution_count": 49,
   "id": "3008795b",
   "metadata": {},
   "outputs": [],
   "source": [
    "# Function to encode the preprocessed text\n",
    "def encode_text(text):\n",
    "    input_length = 750\n",
    "    vocab_length = 35000  # Maximum number of words to keep based on their frequency\n",
    "    tokenizer = Tokenizer(filters=\"\", lower=False, oov_token=\"<oov>\")\n",
    "    tokenizer.fit_on_texts(text)  # Fit the tokenizer on the input data to learn the vocabulary based on the provided texts\n",
    "    tokenizer.num_words = vocab_length  # Limit the number of words considered during tokenization\n",
    "    encoded_text = pad_sequences(tokenizer.texts_to_sequences(text), maxlen=input_length)\n",
    "    return encoded_text"
   ]
  },
  {
   "attachments": {},
   "cell_type": "markdown",
   "id": "64fbc556",
   "metadata": {},
   "source": [
    "## def_predict_sentiment"
   ]
  },
  {
   "cell_type": "code",
   "execution_count": 50,
   "id": "17dfd85e",
   "metadata": {},
   "outputs": [],
   "source": [
    "# Function to predict the sentiment\n",
    "def predict_sentiment(review):\n",
    "    for i in range(len(review)):\n",
    "        review[i] = preprocessing(review[i])\n",
    "    encoded_review = encode_text(review)\n",
    "    predictions = model.predict(encoded_review)\n",
    "    sentiments = [\"Positive\" if prediction > 0.5 else \"Negative\" for prediction in predictions]\n",
    "    return sentiments\n"
   ]
  },
  {
   "attachments": {},
   "cell_type": "markdown",
   "id": "ff09b69f",
   "metadata": {},
   "source": [
    "## Demo example"
   ]
  },
  {
   "cell_type": "code",
   "execution_count": 51,
   "id": "cda006de",
   "metadata": {},
   "outputs": [
    {
     "name": "stdout",
     "output_type": "stream",
     "text": [
      "1/1 [==============================] - 1s 629ms/step\n"
     ]
    },
    {
     "data": {
      "text/html": [
       "<div>\n",
       "<style scoped>\n",
       "    .dataframe tbody tr th:only-of-type {\n",
       "        vertical-align: middle;\n",
       "    }\n",
       "\n",
       "    .dataframe tbody tr th {\n",
       "        vertical-align: top;\n",
       "    }\n",
       "\n",
       "    .dataframe thead th {\n",
       "        text-align: right;\n",
       "    }\n",
       "</style>\n",
       "<table border=\"1\" class=\"dataframe\">\n",
       "  <thead>\n",
       "    <tr style=\"text-align: right;\">\n",
       "      <th></th>\n",
       "      <th>Review</th>\n",
       "      <th>True_labels</th>\n",
       "      <th>Sentiment</th>\n",
       "      <th>Prediction Correct</th>\n",
       "    </tr>\n",
       "  </thead>\n",
       "  <tbody>\n",
       "    <tr>\n",
       "      <th>0</th>\n",
       "      <td>movi must watch masterpiec</td>\n",
       "      <td>Positive</td>\n",
       "      <td>Positive</td>\n",
       "      <td>Correct_predicted</td>\n",
       "    </tr>\n",
       "    <tr>\n",
       "      <th>1</th>\n",
       "      <td>let film meet expect</td>\n",
       "      <td>Negative</td>\n",
       "      <td>Positive</td>\n",
       "      <td></td>\n",
       "    </tr>\n",
       "    <tr>\n",
       "      <th>2</th>\n",
       "      <td>perform movi outstand</td>\n",
       "      <td>Positive</td>\n",
       "      <td>Positive</td>\n",
       "      <td>Correct_predicted</td>\n",
       "    </tr>\n",
       "    <tr>\n",
       "      <th>3</th>\n",
       "      <td>plot confus pace</td>\n",
       "      <td>Negative</td>\n",
       "      <td>Negative</td>\n",
       "      <td>Correct_predicted</td>\n",
       "    </tr>\n",
       "    <tr>\n",
       "      <th>4</th>\n",
       "      <td>deepli move emot impact film</td>\n",
       "      <td>Positive</td>\n",
       "      <td>Positive</td>\n",
       "      <td>Correct_predicted</td>\n",
       "    </tr>\n",
       "    <tr>\n",
       "      <th>5</th>\n",
       "      <td>charact lack depth dialogu felt forc</td>\n",
       "      <td>Negative</td>\n",
       "      <td>Negative</td>\n",
       "      <td>Correct_predicted</td>\n",
       "    </tr>\n",
       "    <tr>\n",
       "      <th>6</th>\n",
       "      <td>movi absolut fantast love everi moment</td>\n",
       "      <td>Positive</td>\n",
       "      <td>Positive</td>\n",
       "      <td>Correct_predicted</td>\n",
       "    </tr>\n",
       "    <tr>\n",
       "      <th>7</th>\n",
       "      <td>end movi left unsatisfi</td>\n",
       "      <td>Negative</td>\n",
       "      <td>Negative</td>\n",
       "      <td>Correct_predicted</td>\n",
       "    </tr>\n",
       "  </tbody>\n",
       "</table>\n",
       "</div>"
      ],
      "text/plain": [
       "                                   Review True_labels Sentiment  \\\n",
       "0              movi must watch masterpiec    Positive  Positive   \n",
       "1                    let film meet expect    Negative  Positive   \n",
       "2                   perform movi outstand    Positive  Positive   \n",
       "3                        plot confus pace    Negative  Negative   \n",
       "4            deepli move emot impact film    Positive  Positive   \n",
       "5    charact lack depth dialogu felt forc    Negative  Negative   \n",
       "6  movi absolut fantast love everi moment    Positive  Positive   \n",
       "7                 end movi left unsatisfi    Negative  Negative   \n",
       "\n",
       "  Prediction Correct  \n",
       "0  Correct_predicted  \n",
       "1                     \n",
       "2  Correct_predicted  \n",
       "3  Correct_predicted  \n",
       "4  Correct_predicted  \n",
       "5  Correct_predicted  \n",
       "6  Correct_predicted  \n",
       "7  Correct_predicted  "
      ]
     },
     "metadata": {},
     "output_type": "display_data"
    },
    {
     "name": "stdout",
     "output_type": "stream",
     "text": [
      "Number of Correct Predictions: 7 out of 8\n"
     ]
    }
   ],
   "source": [
    "# Load the saved model\n",
    "model = load_model('training_model3.h5')\n",
    "\n",
    "reviews = [\n",
    "    \"This movie is a must-watch! It's a masterpiece.\",\n",
    "    \"I was let down by this film. It didn't meet my expectations.\",\n",
    "    \"The performances in this movie are outstanding.\",\n",
    "    \"The plot was confusing, and the pacing was off.\",\n",
    "    \"I was deeply moved by the emotional impact of this film.\",\n",
    "    \"The characters lacked depth, and the dialogue felt forced.\",\n",
    "    \"This movie was absolutely fantastic! I loved every moment of it.\",\n",
    "    \"The ending of the movie left me unsatisfied.\"]\n",
    "    \n",
    "\n",
    "# Labels for the reviews\n",
    "True_labels = ['Positive', 'Negative', 'Positive', 'Negative', 'Positive', 'Negative',\n",
    "          'Positive', 'Negative']\n",
    "\n",
    "\n",
    "# Predict sentiment for all reviews\n",
    "sentiments = predict_sentiment(reviews)\n",
    "\n",
    "# Create a pandas DataFrame with reviews, labels, and sentiments\n",
    "df = pd.DataFrame({'Review': reviews, 'True_labels': True_labels, 'Sentiment': sentiments})\n",
    "\n",
    "# Add a column to indicate whether each prediction is correct\n",
    "df['Prediction Correct'] = np.where( df['True_labels'] == df['Sentiment'], \"Correct_predicted\", \"\")\n",
    "\n",
    "# Count the number of correct predictions\n",
    "num_correct = sum(df['Prediction Correct'] == 'Correct_predicted')\n",
    "\n",
    "# Print the DataFrame and the number of correct predictions\n",
    "display(df)\n",
    "print(f\"Number of Correct Predictions: {num_correct} out of {len(df['Prediction Correct'])}\")"
   ]
  },
  {
   "cell_type": "code",
   "execution_count": 52,
   "id": "40dea182",
   "metadata": {},
   "outputs": [
    {
     "data": {
      "image/png": "[encoded data removed]",
      "text/plain": [
       "<Figure size 600x600 with 1 Axes>"
      ]
     },
     "metadata": {},
     "output_type": "display_data"
    }
   ],
   "source": [
    "# Count the number of correct and incorrect predictions\n",
    "num_correct = sum(df['Prediction Correct'] == 'Correct_predicted')\n",
    "num_incorrect = len(df) - num_correct\n",
    "\n",
    "# Data for the pie chart\n",
    "data = [num_correct, num_incorrect]\n",
    "labels = ['Correct Predictions', 'Incorrect Predictions']\n",
    "colors = ['orange', 'maroon']  # Custom colors for the pie slices\n",
    "\n",
    "# Create a pie chart\n",
    "plt.figure(figsize=(6, 6))\n",
    "plt.pie(data, labels=labels, autopct='%1.1f%%', startangle=90, colors=colors)\n",
    "plt.title('Prediction Accuracy')\n",
    "\n",
    "# Display the pie chart\n",
    "plt.show()"
   ]
  }
 ],
 "metadata": {
  "kernelspec": {
   "display_name": "Python 3 (ipykernel)",
   "language": "python",
   "name": "python3"
  },
  "language_info": {
   "codemirror_mode": {
    "name": "ipython",
    "version": 3
   },
   "file_extension": ".py",
   "mimetype": "text/x-python",
   "name": "python",
   "nbconvert_exporter": "python",
   "pygments_lexer": "ipython3",
   "version": "3.10.11"
  }
 },
 "nbformat": 4,
 "nbformat_minor": 5
}
